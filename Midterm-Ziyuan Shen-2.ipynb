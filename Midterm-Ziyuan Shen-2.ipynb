{
 "cells": [
  {
   "cell_type": "markdown",
   "metadata": {},
   "source": [
    "<h1 align=\"center\">2019 Midterm</h1>\n",
    "<h4 align=\"center\">Ziyuan Shen, NetID: zs83</h4>"
   ]
  },
  {
   "cell_type": "code",
   "execution_count": 1,
   "metadata": {},
   "outputs": [],
   "source": [
    "%matplotlib inline\n",
    "import matplotlib.pyplot as plt\n",
    "import seaborn as sns; sns.set()\n",
    "import numpy as np\n",
    "import pandas as pd"
   ]
  },
  {
   "cell_type": "markdown",
   "metadata": {},
   "source": [
    "#### Pr. 1.1\n",
    "Consider the data set in Lab 1. This is the Advertisement.csv data set."
   ]
  },
  {
   "cell_type": "markdown",
   "metadata": {},
   "source": [
    "1.Compute the leave-on-out cross validation error for a Gaussian process regression model as well as a Bayesian linear regression model.\n",
    "\n",
    "Data preprocessing:"
   ]
  },
  {
   "cell_type": "code",
   "execution_count": 2,
   "metadata": {},
   "outputs": [
    {
     "data": {
      "text/html": [
       "<div>\n",
       "<style scoped>\n",
       "    .dataframe tbody tr th:only-of-type {\n",
       "        vertical-align: middle;\n",
       "    }\n",
       "\n",
       "    .dataframe tbody tr th {\n",
       "        vertical-align: top;\n",
       "    }\n",
       "\n",
       "    .dataframe thead th {\n",
       "        text-align: right;\n",
       "    }\n",
       "</style>\n",
       "<table border=\"1\" class=\"dataframe\">\n",
       "  <thead>\n",
       "    <tr style=\"text-align: right;\">\n",
       "      <th></th>\n",
       "      <th>Unnamed: 0</th>\n",
       "      <th>TV</th>\n",
       "      <th>radio</th>\n",
       "      <th>newspaper</th>\n",
       "      <th>sales</th>\n",
       "    </tr>\n",
       "  </thead>\n",
       "  <tbody>\n",
       "    <tr>\n",
       "      <th>0</th>\n",
       "      <td>1</td>\n",
       "      <td>230.1</td>\n",
       "      <td>37.8</td>\n",
       "      <td>69.2</td>\n",
       "      <td>22.1</td>\n",
       "    </tr>\n",
       "    <tr>\n",
       "      <th>1</th>\n",
       "      <td>2</td>\n",
       "      <td>44.5</td>\n",
       "      <td>39.3</td>\n",
       "      <td>45.1</td>\n",
       "      <td>10.4</td>\n",
       "    </tr>\n",
       "    <tr>\n",
       "      <th>2</th>\n",
       "      <td>3</td>\n",
       "      <td>17.2</td>\n",
       "      <td>45.9</td>\n",
       "      <td>69.3</td>\n",
       "      <td>9.3</td>\n",
       "    </tr>\n",
       "    <tr>\n",
       "      <th>3</th>\n",
       "      <td>4</td>\n",
       "      <td>151.5</td>\n",
       "      <td>41.3</td>\n",
       "      <td>58.5</td>\n",
       "      <td>18.5</td>\n",
       "    </tr>\n",
       "    <tr>\n",
       "      <th>4</th>\n",
       "      <td>5</td>\n",
       "      <td>180.8</td>\n",
       "      <td>10.8</td>\n",
       "      <td>58.4</td>\n",
       "      <td>12.9</td>\n",
       "    </tr>\n",
       "  </tbody>\n",
       "</table>\n",
       "</div>"
      ],
      "text/plain": [
       "   Unnamed: 0     TV  radio  newspaper  sales\n",
       "0           1  230.1   37.8       69.2   22.1\n",
       "1           2   44.5   39.3       45.1   10.4\n",
       "2           3   17.2   45.9       69.3    9.3\n",
       "3           4  151.5   41.3       58.5   18.5\n",
       "4           5  180.8   10.8       58.4   12.9"
      ]
     },
     "execution_count": 2,
     "metadata": {},
     "output_type": "execute_result"
    }
   ],
   "source": [
    "data_df = pd.read_csv('Advertisement.csv')\n",
    "data_df.head()"
   ]
  },
  {
   "cell_type": "code",
   "execution_count": 3,
   "metadata": {},
   "outputs": [],
   "source": [
    "X = data_df[['TV','radio','newspaper']].values\n",
    "y = data_df.sales.values"
   ]
  },
  {
   "cell_type": "markdown",
   "metadata": {},
   "source": [
    "Gaussian Process Regression:\n",
    "\n",
    "A simple radius basis function kernel is used, which is defined as,\n",
    "\\begin{equation}\n",
    "K(x,x')=exp\\left (-\\frac{||x-x'||^2}{2}\\right )\n",
    "\\end{equation}\n",
    "\n",
    "noise is set to $0.1$,"
   ]
  },
  {
   "cell_type": "code",
   "execution_count": 4,
   "metadata": {},
   "outputs": [
    {
     "data": {
      "text/plain": [
       "0.9898100583747501"
      ]
     },
     "execution_count": 4,
     "metadata": {},
     "output_type": "execute_result"
    }
   ],
   "source": [
    "from sklearn.gaussian_process import GaussianProcessRegressor\n",
    "from sklearn.gaussian_process.kernels import DotProduct, WhiteKernel, RBF\n",
    "kernel = RBF(length_scale=1)\n",
    "gpr = GaussianProcessRegressor(kernel=kernel,alpha=0.1,random_state=0).fit(X,y)\n",
    "gpr.score(X,y)"
   ]
  },
  {
   "cell_type": "markdown",
   "metadata": {},
   "source": [
    "Cross-Validation error is defined as:\n",
    "\\begin{equation}\n",
    "I[cv]=\\frac{1}{n}\\sum_{i=1}^{n}{(y_i-{\\hat{f}}_{D^{\\backslash i}}(x_i))}^2\n",
    "\\end{equation}\n",
    "\n",
    "According to this formula, the cross validation error for Gaussian process regression is computed as follows:"
   ]
  },
  {
   "cell_type": "code",
   "execution_count": 5,
   "metadata": {},
   "outputs": [
    {
     "name": "stdout",
     "output_type": "stream",
     "text": [
      "Cross validation error for Gaussian process regression : 0.43839471117738127\n"
     ]
    }
   ],
   "source": [
    "from sklearn.model_selection import LeaveOneOut\n",
    "loo = LeaveOneOut()\n",
    "error_list1 = []\n",
    "for train_index, test_index in loo.split(X):\n",
    "    X_train, X_test = X[train_index], X[test_index]\n",
    "    y_train, y_test = y[train_index], y[test_index]\n",
    "    gpr = GaussianProcessRegressor(kernel=kernel,alpha=0.1,random_state=0)\\\n",
    "    .fit(X_train, y_train)\n",
    "    y_hat = gpr.predict(X_test)\n",
    "    error = (y_hat - y_test) ** 2\n",
    "    error_list1.append(error)\n",
    "I_cv = sum(error_list1) / len(error_list1)\n",
    "print('Cross validation error for Gaussian process regression : {}'.format(I_cv[0]))"
   ]
  },
  {
   "cell_type": "markdown",
   "metadata": {},
   "source": [
    "Bayesian Linear Regression:\n",
    "\\begin{equation}\n",
    "\\begin{aligned}\n",
    "&\\beta|Y,\\mathbf{X},{\\sigma}^2\\sim N_p(\\mu_1,\\Sigma_1)\\\\\n",
    "&\\Sigma_1=({\\tau_0}^{-2}\\mathbf{I}_p+\\sigma^{-2}\\mathbf{X}^T\\mathbf{X})^{-1},\\quad \\mu_1=\\sigma^{-2}\\Sigma_1\\mathbf{X}^TY\\\\\n",
    "&y_{\\ast}|D,x_{\\ast},\\sigma^2,\\tau_0^2\\sim N(\\mu_{\\ast},\\sigma_{\\ast}^2)\\\\\n",
    "&\\mu_{\\ast}=\\frac{1}{\\sigma^2}\\Sigma_1\\mathbf{X}^TYx_{\\ast}=\\mu_1x_{\\ast},\\quad \\sigma_{\\ast}^2=\\sigma^2+x_{\\ast}^T\\Sigma_1x_{\\ast}\n",
    "\\end{aligned}\n",
    "\\end{equation}"
   ]
  },
  {
   "cell_type": "markdown",
   "metadata": {},
   "source": [
    "The following function implements Bayesian linear regressioin. Having $X,Y$ and $x_{\\ast}$ as inputs, the mean value and standard variance value of $y_{\\ast}$ is returned. The default value for $\\sigma$ and $\\tau_0$ are both set to $0.01$:"
   ]
  },
  {
   "cell_type": "code",
   "execution_count": 6,
   "metadata": {
    "scrolled": true
   },
   "outputs": [],
   "source": [
    "import math\n",
    "\n",
    "def BayesianLinearRegression(X, y, X_star, sigma=0.01, tau=0.01):\n",
    "    p = X.shape[1]\n",
    "    I_p = np.identity(p)\n",
    "    Sigma_1 = np.linalg.inv(I_p / (tau ** 2) + (np.dot(X.T, X) / (sigma ** 2)))\n",
    "    mu_1 = np.dot(np.dot(Sigma_1, X.T), y) / (sigma ** 2)\n",
    "    mu_star = np.dot(X_star, mu_1[:,np.newaxis])\n",
    "    var_star = sigma ** 2 + np.dot(np.dot(X_star, Sigma_1), X_star.T)\n",
    "    std_star = math.sqrt(var_star)\n",
    "    return mu_star, std_star"
   ]
  },
  {
   "cell_type": "markdown",
   "metadata": {},
   "source": [
    "Cross Validation error for Bayesian linear regression is computed as follows:"
   ]
  },
  {
   "cell_type": "code",
   "execution_count": 7,
   "metadata": {},
   "outputs": [
    {
     "name": "stdout",
     "output_type": "stream",
     "text": [
      "Cross validation error for linear regression : 4.167440938936757\n"
     ]
    }
   ],
   "source": [
    "error_list3 = []\n",
    "for train_index, test_index in loo.split(X):\n",
    "    X_train, X_test = X[train_index], X[test_index]\n",
    "    y_train, y_test = y[train_index], y[test_index]\n",
    "    y_hat, std_star = BayesianLinearRegression(X_train, y_train, X_test, sigma=1, tau=1)\n",
    "    error = (y_hat - y_test) ** 2\n",
    "    error_list3.append(error)\n",
    "I_cv = sum(error_list3) / len(error_list3)\n",
    "print('Cross validation error for linear regression : {}'.format(I_cv[0][0]))"
   ]
  },
  {
   "cell_type": "markdown",
   "metadata": {},
   "source": [
    "2.Plot the predictive posterior distribution when observations 1, 50, 100, 150 are respectively left out of the training set and you are asked to predict their response."
   ]
  },
  {
   "cell_type": "code",
   "execution_count": 8,
   "metadata": {
    "scrolled": false
   },
   "outputs": [
    {
     "data": {
      "image/png": "[encoded data removed]",
      "text/plain": [
       "<Figure size 1800x1200 with 4 Axes>"
      ]
     },
     "metadata": {
      "needs_background": "light"
     },
     "output_type": "display_data"
    }
   ],
   "source": [
    "from scipy.stats import norm\n",
    "fig = plt.figure(figsize=(12,8),dpi=150)\n",
    "for i, idx in enumerate([0,49,99,149]):\n",
    "    X_train = X[np.arange(X.shape[0])!=idx]\n",
    "    y_train = y[np.arange(X.shape[0])!=idx]\n",
    "    X_test = X[idx:idx+1]\n",
    "    y_test = y[idx:idx+1]\n",
    "    gpr = GaussianProcessRegressor(kernel=kernel,alpha=0.1,random_state=0).fit(X_train, y_train)\n",
    "    mu, std = gpr.predict(X_test, return_std=True)\n",
    "    mu_star, std_star = BayesianLinearRegression(X_train, y_train, X_test, sigma=0.1, tau=0.01)\n",
    "    x_axis = np.arange(-3+(mu+mu_star)/2, 3+(mu+mu_star)/2, 0.01)\n",
    "    ax = fig.add_subplot(2,2,i+1)\n",
    "    ax.plot(x_axis, norm.pdf(x_axis,mu,std), label='Gaussian Process Regression')\n",
    "    ax.plot(x_axis, norm.pdf(x_axis,mu_star[0][0],std_star), label='Bayesian Linear Regression')\n",
    "    ax.legend(loc='upper right', prop={'size': 8})\n",
    "    ax.set_title(\"Predictive Posterior Distribution at Observation {}\".format(idx+1))"
   ]
  },
  {
   "cell_type": "markdown",
   "metadata": {},
   "source": [
    "3.Use a bootstrap procedure to output confidence intervals when observations1, 50, 100, 150 are respectively left out of the training set and you are asked to use ordinary least squares as your regression method."
   ]
  },
  {
   "cell_type": "markdown",
   "metadata": {},
   "source": [
    "Each time, the rest of the observations are resampled $1000$ times to get $1000$ models and the response is predicted $1000$ times. The $95\\%$ confidence intervals are computed as follows:"
   ]
  },
  {
   "cell_type": "code",
   "execution_count": 9,
   "metadata": {},
   "outputs": [
    {
     "name": "stdout",
     "output_type": "stream",
     "text": [
      "Confidence interval for obversation 1 is :[19.924,21.004]\n",
      "Confidence interval for obversation 50 is :[7.739,8.553]\n",
      "Confidence interval for obversation 100 is :[16.451,17.454]\n",
      "Confidence interval for obversation 150 is :[9.287,10.367]\n"
     ]
    }
   ],
   "source": [
    "from sklearn.linear_model import LinearRegression\n",
    "\n",
    "for idx in [0,49,99,149]:\n",
    "    X_train = X[np.arange(X.shape[0])!=idx]\n",
    "    y_train = y[np.arange(X.shape[0])!=idx]\n",
    "    X_test = X[idx:idx+1]\n",
    "    y_test = y[idx:idx+1]\n",
    "    y_hat = np.zeros(1000)\n",
    "    for i in range(1000):\n",
    "        sample_index = np.random.choice(range(0, len(y_train)-1), len(y_train)-1)\n",
    "        X_samples = X_train[sample_index]\n",
    "        y_samples = y_train[sample_index]\n",
    "        lr = LinearRegression().fit(X_samples,y_samples)\n",
    "        y_hat[i] = lr.predict(X_test)\n",
    "    conf_int = np.percentile(y_hat,[2.5,97.5])\n",
    "    print('Confidence interval for obversation %s is :[%.3f,%.3f]' % (idx+1,conf_int[0],conf_int[1]))"
   ]
  },
  {
   "cell_type": "markdown",
   "metadata": {},
   "source": [
    "#### Pr. 1.2\n",
    "Write out the EM update steps for a mixture of multinomials model. Specifically, consider the following likelihood\n",
    "\\begin{equation}\n",
    "f(x_1,\\dots,x_n;\\pi,\\{\\theta_1,\\dots,\\theta_7\\})=\\prod_{i=1}^{n} \\left [\\sum_{k=1}^{7}\\pi_kf(x_i;\\theta_k) \\right ]\n",
    "\\end{equation}\n",
    "where x takes values $1,\\dots,4$ (there are four categories) and\n",
    "\\begin{equation}\n",
    "f(x=c;\\theta)=\\theta_c,\\quad \\theta_c \\ge 0 \\quad and \\sum_{c}\\theta_c=1\n",
    "\\end{equation}"
   ]
  },
  {
   "cell_type": "markdown",
   "metadata": {},
   "source": [
    "Answer:\n",
    "\n",
    "Complete data log likelihood:\n",
    "\\begin{equation}\n",
    "\\begin{aligned}\n",
    "\\mathscr{l}_C(\\theta;Z,X) & =\\sum_{i=1}^{n}{\\rm log}p(x_i,z_i|\\theta)\\\\\n",
    "                          & =\\sum_{i=1}^{n}{\\rm log}p(x_i|z_i,\\theta)p(z_i|\\pi)\\\\\n",
    "                          & =\\sum_{i=1}^{n}{\\rm log}p(z_i|\\pi)+{\\rm log}p(x_i|z_i,\\theta)\\\\\n",
    "                          & =\\sum_{i=1}^{n}\\sum_{k=1}^{7}z_i^k\\left({\\rm log}p(z_i=k)+{\\rm log}f(x_i;\\theta_k)\\right)\\\\\n",
    "                          & =\\sum_{i=1}^{n}\\sum_{k=1}^{7}z_i^k{\\rm log}\\pi_k+z_i^k{\\rm log}f(x_i;\\theta_k)\\\\\n",
    "\\end{aligned}\n",
    "\\end{equation}\n",
    "\n",
    "Expectation of the latent variables:\n",
    "\\begin{equation}\n",
    "\\begin{aligned}\n",
    "Q(\\theta^t) & =E_{\\theta^t}\\left[\\mathscr{l}_C(\\theta;Z,X)\\right]\\\\\n",
    "            & =E_{\\theta^t}\\left[\\sum_{i=1}^{n}\\sum_{k=1}^{7}z_i^k{\\rm log}\\pi_k+z_i^k{\\rm log}f(x_i;\\theta_k)\\right]\\\\\n",
    "            & =\\sum_{i=1}^{n}\\sum_{k=1}^{7}E_{\\theta^t}[z_i^k]{\\rm log}\\pi_k+E_{\\theta^t}[z_i^k]{\\rm log}f(x_i;\\theta_k)\n",
    "\\end{aligned}\n",
    "\\end{equation}\n",
    "\n",
    "E-step: for each $i,k$\n",
    "\\begin{equation}\n",
    "\\begin{aligned}\n",
    "r_{ik}^{t+1} & =E_{\\theta^{t+1}}[z_i^k]\\\\\n",
    "             & =p(z_i=k|\\theta^t,x_i)\\\\\n",
    "             & =\\frac{p(z_i=k,x_i|\\theta^t)}{p(x_i|\\theta^t)}\\\\\n",
    "             & =\\frac{p(z_i=k|\\pi)p(x_i|z_i=k,\\theta^t)}{p(x_i|\\theta^t)}\\\\\n",
    "             & =\\frac{\\pi_k^tf(x_i;\\theta_k^t)}{\\sum_{j=1}^7\\pi_j^tf(x_i;\\theta_j^t)}\n",
    "\\end{aligned}\n",
    "\\end{equation}\n",
    "\n",
    "\n",
    "\n",
    "M-step: updata $\\theta^t$ to $\\theta^{t+1}$,\n",
    "\\begin{equation}\n",
    "\\begin{aligned}\n",
    "\\theta^{t+1} & =\\underset{\\theta}{\\operatorname{argmax}}Q(\\theta^t)\\\\\n",
    "             & =\\underset{\\theta}{\\operatorname{argmax}}\\sum_{i=1}^{n}\\sum_{k=1}^{7}E_{\\theta^t}[z_i^k]{\\rm log}\\pi_k+E_{\\theta^t}[z_i^k]{\\rm log}f(x_i;\\theta_k)\\\\\n",
    "             & =\\underset{\\theta}{\\operatorname{argmax}}\\sum_{i=1}^{n}\\sum_{k=1}^{7}r_{ik}^t{\\rm log}\\pi_k+r_{ik}^t{\\rm log}f(x_i;\\theta_k)\\\\\n",
    "\\end{aligned}\n",
    "\\end{equation}\n",
    "\n",
    "For notation clarity, let $\\theta_k=[\\theta_{k,1},\\theta_{k,2},\\theta_{k,3},\\theta_{k,4}]$, where $f(x=j;\\theta_k)=\\theta_{k,j}$ and $\\sum_{j=1}^{4}\\theta_{k,j}=1$. More specifically,\n",
    "\\begin{equation}\n",
    "\\begin{aligned}\n",
    "\\pi_k^{t+1} & =\\frac{\\sum_{i=1}^nr_{ik}^t}{n}\\\\\n",
    "\\theta_{k,j}^{t+1} & =\\frac{\\sum_{i=1}^nr_{ik}^t(x_i==j)}{\\sum_{i=1}^nr_{ik}^t},\\quad j=1,2,3,4\n",
    "\\end{aligned}\n",
    "\\end{equation}"
   ]
  },
  {
   "cell_type": "markdown",
   "metadata": {},
   "source": [
    "#### Pr. 1.3\n",
    "Given the classification data set in Lab 2 run regularized logistic regression versus SVM and compare classification accuracy on a test-train split.\n",
    "\n",
    "Data preprocessing:"
   ]
  },
  {
   "cell_type": "code",
   "execution_count": 10,
   "metadata": {
    "scrolled": false
   },
   "outputs": [
    {
     "data": {
      "text/html": [
       "<div>\n",
       "<style scoped>\n",
       "    .dataframe tbody tr th:only-of-type {\n",
       "        vertical-align: middle;\n",
       "    }\n",
       "\n",
       "    .dataframe tbody tr th {\n",
       "        vertical-align: top;\n",
       "    }\n",
       "\n",
       "    .dataframe thead th {\n",
       "        text-align: right;\n",
       "    }\n",
       "</style>\n",
       "<table border=\"1\" class=\"dataframe\">\n",
       "  <thead>\n",
       "    <tr style=\"text-align: right;\">\n",
       "      <th></th>\n",
       "      <th>ri</th>\n",
       "      <th>na</th>\n",
       "      <th>mg</th>\n",
       "      <th>al</th>\n",
       "      <th>si</th>\n",
       "      <th>k</th>\n",
       "      <th>ca</th>\n",
       "      <th>ba</th>\n",
       "      <th>fe</th>\n",
       "      <th>glass_type</th>\n",
       "    </tr>\n",
       "    <tr>\n",
       "      <th>id</th>\n",
       "      <th></th>\n",
       "      <th></th>\n",
       "      <th></th>\n",
       "      <th></th>\n",
       "      <th></th>\n",
       "      <th></th>\n",
       "      <th></th>\n",
       "      <th></th>\n",
       "      <th></th>\n",
       "      <th></th>\n",
       "    </tr>\n",
       "  </thead>\n",
       "  <tbody>\n",
       "    <tr>\n",
       "      <th>1</th>\n",
       "      <td>1.52101</td>\n",
       "      <td>13.64</td>\n",
       "      <td>4.49</td>\n",
       "      <td>1.10</td>\n",
       "      <td>71.78</td>\n",
       "      <td>0.06</td>\n",
       "      <td>8.75</td>\n",
       "      <td>0.0</td>\n",
       "      <td>0.0</td>\n",
       "      <td>1</td>\n",
       "    </tr>\n",
       "    <tr>\n",
       "      <th>2</th>\n",
       "      <td>1.51761</td>\n",
       "      <td>13.89</td>\n",
       "      <td>3.60</td>\n",
       "      <td>1.36</td>\n",
       "      <td>72.73</td>\n",
       "      <td>0.48</td>\n",
       "      <td>7.83</td>\n",
       "      <td>0.0</td>\n",
       "      <td>0.0</td>\n",
       "      <td>1</td>\n",
       "    </tr>\n",
       "    <tr>\n",
       "      <th>3</th>\n",
       "      <td>1.51618</td>\n",
       "      <td>13.53</td>\n",
       "      <td>3.55</td>\n",
       "      <td>1.54</td>\n",
       "      <td>72.99</td>\n",
       "      <td>0.39</td>\n",
       "      <td>7.78</td>\n",
       "      <td>0.0</td>\n",
       "      <td>0.0</td>\n",
       "      <td>1</td>\n",
       "    </tr>\n",
       "    <tr>\n",
       "      <th>4</th>\n",
       "      <td>1.51766</td>\n",
       "      <td>13.21</td>\n",
       "      <td>3.69</td>\n",
       "      <td>1.29</td>\n",
       "      <td>72.61</td>\n",
       "      <td>0.57</td>\n",
       "      <td>8.22</td>\n",
       "      <td>0.0</td>\n",
       "      <td>0.0</td>\n",
       "      <td>1</td>\n",
       "    </tr>\n",
       "    <tr>\n",
       "      <th>5</th>\n",
       "      <td>1.51742</td>\n",
       "      <td>13.27</td>\n",
       "      <td>3.62</td>\n",
       "      <td>1.24</td>\n",
       "      <td>73.08</td>\n",
       "      <td>0.55</td>\n",
       "      <td>8.07</td>\n",
       "      <td>0.0</td>\n",
       "      <td>0.0</td>\n",
       "      <td>1</td>\n",
       "    </tr>\n",
       "  </tbody>\n",
       "</table>\n",
       "</div>"
      ],
      "text/plain": [
       "         ri     na    mg    al     si     k    ca   ba   fe  glass_type\n",
       "id                                                                     \n",
       "1   1.52101  13.64  4.49  1.10  71.78  0.06  8.75  0.0  0.0           1\n",
       "2   1.51761  13.89  3.60  1.36  72.73  0.48  7.83  0.0  0.0           1\n",
       "3   1.51618  13.53  3.55  1.54  72.99  0.39  7.78  0.0  0.0           1\n",
       "4   1.51766  13.21  3.69  1.29  72.61  0.57  8.22  0.0  0.0           1\n",
       "5   1.51742  13.27  3.62  1.24  73.08  0.55  8.07  0.0  0.0           1"
      ]
     },
     "execution_count": 10,
     "metadata": {},
     "output_type": "execute_result"
    }
   ],
   "source": [
    "url = 'http://archive.ics.uci.edu/ml/machine-learning-databases/glass/glass.data'\n",
    "col_names = ['id','ri','na','mg','al','si','k','ca','ba','fe','glass_type']\n",
    "glass_df = pd.read_csv(url, names=col_names, index_col='id')\n",
    "glass_df.head()"
   ]
  },
  {
   "cell_type": "markdown",
   "metadata": {},
   "source": [
    "The glass type is classified into two categories of household:"
   ]
  },
  {
   "cell_type": "code",
   "execution_count": 11,
   "metadata": {
    "scrolled": true
   },
   "outputs": [
    {
     "data": {
      "text/html": [
       "<div>\n",
       "<style scoped>\n",
       "    .dataframe tbody tr th:only-of-type {\n",
       "        vertical-align: middle;\n",
       "    }\n",
       "\n",
       "    .dataframe tbody tr th {\n",
       "        vertical-align: top;\n",
       "    }\n",
       "\n",
       "    .dataframe thead th {\n",
       "        text-align: right;\n",
       "    }\n",
       "</style>\n",
       "<table border=\"1\" class=\"dataframe\">\n",
       "  <thead>\n",
       "    <tr style=\"text-align: right;\">\n",
       "      <th></th>\n",
       "      <th>ri</th>\n",
       "      <th>na</th>\n",
       "      <th>mg</th>\n",
       "      <th>al</th>\n",
       "      <th>si</th>\n",
       "      <th>k</th>\n",
       "      <th>ca</th>\n",
       "      <th>ba</th>\n",
       "      <th>fe</th>\n",
       "      <th>glass_type</th>\n",
       "      <th>household</th>\n",
       "    </tr>\n",
       "    <tr>\n",
       "      <th>id</th>\n",
       "      <th></th>\n",
       "      <th></th>\n",
       "      <th></th>\n",
       "      <th></th>\n",
       "      <th></th>\n",
       "      <th></th>\n",
       "      <th></th>\n",
       "      <th></th>\n",
       "      <th></th>\n",
       "      <th></th>\n",
       "      <th></th>\n",
       "    </tr>\n",
       "  </thead>\n",
       "  <tbody>\n",
       "    <tr>\n",
       "      <th>1</th>\n",
       "      <td>1.52101</td>\n",
       "      <td>13.64</td>\n",
       "      <td>4.49</td>\n",
       "      <td>1.10</td>\n",
       "      <td>71.78</td>\n",
       "      <td>0.06</td>\n",
       "      <td>8.75</td>\n",
       "      <td>0.0</td>\n",
       "      <td>0.0</td>\n",
       "      <td>1</td>\n",
       "      <td>0</td>\n",
       "    </tr>\n",
       "    <tr>\n",
       "      <th>2</th>\n",
       "      <td>1.51761</td>\n",
       "      <td>13.89</td>\n",
       "      <td>3.60</td>\n",
       "      <td>1.36</td>\n",
       "      <td>72.73</td>\n",
       "      <td>0.48</td>\n",
       "      <td>7.83</td>\n",
       "      <td>0.0</td>\n",
       "      <td>0.0</td>\n",
       "      <td>1</td>\n",
       "      <td>0</td>\n",
       "    </tr>\n",
       "    <tr>\n",
       "      <th>3</th>\n",
       "      <td>1.51618</td>\n",
       "      <td>13.53</td>\n",
       "      <td>3.55</td>\n",
       "      <td>1.54</td>\n",
       "      <td>72.99</td>\n",
       "      <td>0.39</td>\n",
       "      <td>7.78</td>\n",
       "      <td>0.0</td>\n",
       "      <td>0.0</td>\n",
       "      <td>1</td>\n",
       "      <td>0</td>\n",
       "    </tr>\n",
       "    <tr>\n",
       "      <th>4</th>\n",
       "      <td>1.51766</td>\n",
       "      <td>13.21</td>\n",
       "      <td>3.69</td>\n",
       "      <td>1.29</td>\n",
       "      <td>72.61</td>\n",
       "      <td>0.57</td>\n",
       "      <td>8.22</td>\n",
       "      <td>0.0</td>\n",
       "      <td>0.0</td>\n",
       "      <td>1</td>\n",
       "      <td>0</td>\n",
       "    </tr>\n",
       "    <tr>\n",
       "      <th>5</th>\n",
       "      <td>1.51742</td>\n",
       "      <td>13.27</td>\n",
       "      <td>3.62</td>\n",
       "      <td>1.24</td>\n",
       "      <td>73.08</td>\n",
       "      <td>0.55</td>\n",
       "      <td>8.07</td>\n",
       "      <td>0.0</td>\n",
       "      <td>0.0</td>\n",
       "      <td>1</td>\n",
       "      <td>0</td>\n",
       "    </tr>\n",
       "  </tbody>\n",
       "</table>\n",
       "</div>"
      ],
      "text/plain": [
       "         ri     na    mg    al     si     k    ca   ba   fe  glass_type  \\\n",
       "id                                                                        \n",
       "1   1.52101  13.64  4.49  1.10  71.78  0.06  8.75  0.0  0.0           1   \n",
       "2   1.51761  13.89  3.60  1.36  72.73  0.48  7.83  0.0  0.0           1   \n",
       "3   1.51618  13.53  3.55  1.54  72.99  0.39  7.78  0.0  0.0           1   \n",
       "4   1.51766  13.21  3.69  1.29  72.61  0.57  8.22  0.0  0.0           1   \n",
       "5   1.51742  13.27  3.62  1.24  73.08  0.55  8.07  0.0  0.0           1   \n",
       "\n",
       "    household  \n",
       "id             \n",
       "1           0  \n",
       "2           0  \n",
       "3           0  \n",
       "4           0  \n",
       "5           0  "
      ]
     },
     "execution_count": 11,
     "metadata": {},
     "output_type": "execute_result"
    }
   ],
   "source": [
    "glass_df['household'] = glass_df.glass_type.map({1:0, 2:0, 3:0, 5:1, 6:1, 7:1})\n",
    "glass_df.head()"
   ]
  },
  {
   "cell_type": "markdown",
   "metadata": {},
   "source": [
    "The data is randomly separated into 50% training set and 50% testing set."
   ]
  },
  {
   "cell_type": "code",
   "execution_count": 12,
   "metadata": {},
   "outputs": [],
   "source": [
    "from sklearn.linear_model import LogisticRegression\n",
    "from sklearn.model_selection import train_test_split\n",
    "X = glass_df[['ri','na','mg','al','si','k','ca','ba','fe']].values\n",
    "y = glass_df.household.values\n",
    "X_train, X_test, y_train, y_test = train_test_split(X, y, test_size=0.5, random_state=0)"
   ]
  },
  {
   "cell_type": "markdown",
   "metadata": {},
   "source": [
    "Regularized Logistic Regression:\n",
    "\n",
    "With 'L2' regularization, logistic regression solves,\n",
    "\\begin{equation}\n",
    "\\underset{w,c}{\\operatorname{argmin}}\\frac{1}{2}w^Tw+C\\sum_{i=1}^n{\\rm log}(exp(-y_i(X_i^Tw+c))+1)\n",
    "\\end{equation}\n",
    "\n",
    "Prediction accuracy is calculated as follows, with parameter $C$ set to $10$,"
   ]
  },
  {
   "cell_type": "code",
   "execution_count": 13,
   "metadata": {},
   "outputs": [
    {
     "name": "stdout",
     "output_type": "stream",
     "text": [
      "Logistic regression classification accuracy: 0.9252336448598131\n"
     ]
    }
   ],
   "source": [
    "clf_lr = LogisticRegression(penalty='l2',C=10,solver='newton-cg').fit(X_train,y_train)\n",
    "y_hat = clf_lr.predict(X_test)\n",
    "accuracy = (y_hat == y_test).sum() / len(y_test)\n",
    "print('Logistic regression classification accuracy: {}'.format(accuracy))"
   ]
  },
  {
   "cell_type": "markdown",
   "metadata": {},
   "source": [
    "Support Vector Machine:\n",
    "\\begin{equation}\n",
    "\\underset{w,b}{\\operatorname{argmin}}\\frac{1}{2}w^Tw+C\\sum_{i=1}^n\\xi_i\\\\\n",
    "{\\rm subject \\quad to}\\quad y_i(w^Tx_i+b)\\ge 1-\\xi_i,\\\\\n",
    "\\xi_i \\ge 0,\\quad i=1,2,\\dots,n\n",
    "\\end{equation}"
   ]
  },
  {
   "cell_type": "markdown",
   "metadata": {},
   "source": [
    "Prediction accuracy is calculated as follows, with parameter $C$ set to $10$,"
   ]
  },
  {
   "cell_type": "code",
   "execution_count": 14,
   "metadata": {
    "scrolled": true
   },
   "outputs": [
    {
     "name": "stdout",
     "output_type": "stream",
     "text": [
      "SVM classification accuracy: 0.9439252336448598\n"
     ]
    }
   ],
   "source": [
    "from sklearn.svm import SVC\n",
    "clf_svm = SVC(C=10,gamma='auto').fit(X_train,y_train)\n",
    "y_hat = clf_svm.predict(X_test)\n",
    "accuracy = (y_hat == y_test).sum() / len(y_test)\n",
    "print('SVM classification accuracy: {}'.format(accuracy))"
   ]
  },
  {
   "cell_type": "markdown",
   "metadata": {},
   "source": [
    "Based on the experiment, SVM performs a little better than logistic regression."
   ]
  },
  {
   "cell_type": "markdown",
   "metadata": {},
   "source": [
    "#### Pr. 1.4\n",
    "Show that the EM algorithm does not decrease with respect to the likelihood value at\n",
    "each step."
   ]
  },
  {
   "cell_type": "markdown",
   "metadata": {},
   "source": [
    "Answer:\n",
    "\n",
    "Say complete data is $D=(X,Z)$, where $X$ is observed data and $Z$ is unobserved data. The data log likelihood is:\n",
    "\\begin{equation}\n",
    "\\begin{aligned}\n",
    "\\mathscr{l}(\\theta,X) & ={\\rm log}p(X|\\theta)\\\\\n",
    "                      & ={\\rm log}\\frac{p(X,Z|\\theta)}{p(Z|X,\\theta)}\\\\\n",
    "                      & ={\\rm log}p(X,Z|\\theta)-{\\rm log}p(Z|X,\\theta)\\\\\n",
    "                      & =E_{\\theta^t}[\\mathscr{l}(\\theta,X)|X]\\\\\n",
    "                      & =E_{\\theta^t}[{\\rm log}p(X,Z|\\theta)|X]-E_{\\theta^t}[{\\rm log}p(Z|X,\\theta)|X]\\\\\n",
    "                      & =Q(\\theta|\\theta^t)-H(\\theta|\\theta^t),\n",
    "\\end{aligned}\n",
    "\\end{equation}\n",
    "\n",
    "where $H(\\theta|\\theta^t)=E_{\\theta^t}[{\\rm log}p(Z|X,\\theta)|X]$.\n",
    "\n",
    "\\begin{equation}\n",
    "\\begin{aligned}\n",
    "\\mathscr{l}(\\theta^{t+1},X)-\\mathscr{l}(\\theta^t,X) & =\\left(Q(\\theta^{t+1}|\\theta^t)-H(\\theta^{t+1}|\\theta^t)\\right)-\\left(Q(\\theta^t|\\theta^t)-H(\\theta^t|\\theta^t)\\right)\\\\\n",
    "& =\\left(Q(\\theta^{t+1}|\\theta^t)-Q(\\theta^t|\\theta^t)\\right)-\\left(H(\\theta^{t+1}|\\theta^t)-H(\\theta^t|\\theta^t)\\right)\n",
    "\\end{aligned}\n",
    "\\end{equation}"
   ]
  },
  {
   "cell_type": "markdown",
   "metadata": {},
   "source": [
    "In Expectation Maximization, $\\theta$ is chosen to maximize $Q(\\theta|\\theta^t)$ at each step. Therefore, $Q(\\theta^{t+1}|\\theta^t)-Q(\\theta^t|\\theta^t)\\ge 0$.\n",
    "\n",
    "By Jensen's inequality,\n",
    "\\begin{equation}\n",
    "\\begin{aligned}\n",
    "H(\\theta^{t+1}|\\theta^t)-H(\\theta^t|\\theta^t) & =E_{\\theta^t}\\left[{\\rm log}\\frac{p(Z|X,\\theta^{t+1})}{p(Z|X,\\theta^t)}|X\\right]\\\\\n",
    "& \\le {\\rm log}E_{\\theta^t}\\left[\\frac{p(Z|X,\\theta^{t+1})}{p(Z|X,\\theta^t)}|X\\right]\\\\\n",
    "& ={\\rm log}\\int \\frac{p(z|X,\\theta^{t+1})}{p(z|X,\\theta^t)} p(z|X,\\theta^t) dz\\\\\n",
    "& ={\\rm log}1=0\n",
    "\\end{aligned}\n",
    "\\end{equation}\n",
    "\n",
    "Thus,\n",
    "\\begin{equation}\n",
    "\\mathscr{l}(\\theta^{t+1},X)-\\mathscr{l}(\\theta^t,X)\\ge0.\n",
    "\\end{equation}\n",
    "\n",
    "Reference:\n",
    "\n",
    "<sub>[1] https://en.wikipedia.org/wiki/Expectation%E2%80%93maximization_algorithm<sub>"
   ]
  },
  {
   "cell_type": "markdown",
   "metadata": {},
   "source": [
    "#### Pr. 1.5\n",
    "Sketch how the Least Angle Regression problem implements a form of sparse regression."
   ]
  },
  {
   "cell_type": "markdown",
   "metadata": {},
   "source": [
    "Least Angle regression is a model selection algorithm that modifies Lasso and forward stagewise regression. It generates parsimonious models with fewer features thus can implement sparse regression. The advantage of LARS is reducing computational burden. LARS only requires $m$ steps, where $m$ is the number of covariates.\n",
    "\n",
    "Basically, LARS starts with an empyt set and has the following steps:\n",
    "\n",
    "1) Select $x_{j_1}$ that is most correlated with $y-\\hat{\\mu}$;\n",
    "\n",
    "2) Proceed in the direction of $x_{j_1}$ until another variable $x_{j_2}$ is equally correlated with residuals\n",
    "\n",
    "3) Choose equiangular direction between $x_{j_1}$ and $x_{j_2}$\n",
    "\n",
    "4) Proceed until third variable enters the active set\n",
    "\n",
    "Reference:\n",
    "\n",
    "<sub>[1] Efron, B., Hastie, T., Johnstone, I., & Tibshirani, R. (2004). Least angle regression. The Annals of statistics, 32(2), 407-499.\\<sub>"
   ]
  },
  {
   "cell_type": "markdown",
   "metadata": {},
   "source": [
    "#### Pr. 1.7\n",
    "Run the sklearn.mixture program with 8 components. Output the probability assignment for each observation. Explain the difference between a hard assignment versus a soft\n",
    "assignment for each observation."
   ]
  },
  {
   "cell_type": "markdown",
   "metadata": {},
   "source": [
    "Sythetic data of $8$ clusters are generated using sklearn make_blobs:"
   ]
  },
  {
   "cell_type": "code",
   "execution_count": 15,
   "metadata": {},
   "outputs": [],
   "source": [
    "from sklearn.datasets.samples_generator import make_blobs\n",
    "X, y_true = make_blobs(n_samples = 400, centers = 8, cluster_std = 0.6, random_state = 10)\n",
    "X = X[:, ::-1]"
   ]
  },
  {
   "cell_type": "code",
   "execution_count": 16,
   "metadata": {
    "scrolled": false
   },
   "outputs": [
    {
     "data": {
      "image/png": "[encoded data removed]",
      "text/plain": [
       "<Figure size 432x288 with 1 Axes>"
      ]
     },
     "metadata": {
      "needs_background": "light"
     },
     "output_type": "display_data"
    }
   ],
   "source": [
    "from sklearn.mixture import GaussianMixture\n",
    "gmm = GaussianMixture(n_components = 8, random_state = 0).fit(X)\n",
    "labels = gmm.predict(X)\n",
    "plt.scatter(X[:, 0], X[:, 1], c=labels, s=20, cmap='viridis');"
   ]
  },
  {
   "cell_type": "code",
   "execution_count": 17,
   "metadata": {
    "scrolled": false
   },
   "outputs": [
    {
     "name": "stdout",
     "output_type": "stream",
     "text": [
      "[[1. 0. 0. 0. 0. 0. 0. 0.]\n",
      " [0. 1. 0. 0. 0. 0. 0. 0.]\n",
      " [0. 0. 0. 1. 0. 0. 0. 0.]\n",
      " [1. 0. 0. 0. 0. 0. 0. 0.]\n",
      " [0. 0. 0. 0. 1. 0. 0. 0.]]\n"
     ]
    }
   ],
   "source": [
    "probs = gmm.predict_proba(X)\n",
    "print(probs[:5].round(3))"
   ]
  },
  {
   "cell_type": "markdown",
   "metadata": {},
   "source": [
    "Difference between a hard assignment versus a soft\n",
    "assignment:\n",
    "\n",
    "Hard assignment assigns the best cluster for each data point, while soft assignment assigns the probability of each cluster for each data point."
   ]
  }
 ],
 "metadata": {
  "kernelspec": {
   "display_name": "Python 3",
   "language": "python",
   "name": "python3"
  },
  "language_info": {
   "codemirror_mode": {
    "name": "ipython",
    "version": 3
   },
   "file_extension": ".py",
   "mimetype": "text/x-python",
   "name": "python",
   "nbconvert_exporter": "python",
   "pygments_lexer": "ipython3",
   "version": "3.7.1"
  }
 },
 "nbformat": 4,
 "nbformat_minor": 2
}
